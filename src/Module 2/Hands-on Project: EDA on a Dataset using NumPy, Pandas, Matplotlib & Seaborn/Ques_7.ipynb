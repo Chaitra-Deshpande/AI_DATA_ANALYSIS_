{
 "cells": [
  {
   "cell_type": "code",
   "execution_count": 2,
   "metadata": {},
   "outputs": [
    {
     "name": "stdout",
     "output_type": "stream",
     "text": [
      "Average Feature Values by Species:\n",
      "     study_hours_per_day  social_media_hours  netflix_hours  \\\n",
      "age                                                           \n",
      "17              3.547368            2.391729       1.860902   \n",
      "18              3.623932            2.675214       1.623932   \n",
      "19              3.457522            2.482301       1.867257   \n",
      "20              3.569178            2.576027       1.964384   \n",
      "21              3.452800            2.512800       1.776000   \n",
      "22              3.602655            2.437168       1.934513   \n",
      "23              3.575630            2.473109       1.660504   \n",
      "24              3.569403            2.492537       1.837313   \n",
      "\n",
      "     attendance_percentage  sleep_hours  exercise_frequency  \\\n",
      "age                                                           \n",
      "17               84.591729     6.485714            3.075188   \n",
      "18               85.438462     6.409402            3.162393   \n",
      "19               83.906195     6.485841            2.831858   \n",
      "20               83.563014     6.373973            3.130137   \n",
      "21               83.428800     6.370400            2.960000   \n",
      "22               83.391150     6.442478            2.955752   \n",
      "23               85.052101     6.578992            3.210084   \n",
      "24               83.806716     6.618657            2.985075   \n",
      "\n",
      "     mental_health_rating  exam_score  \n",
      "age                                    \n",
      "17               5.593985   70.342857  \n",
      "18               5.564103   70.939316  \n",
      "19               5.548673   68.293805  \n",
      "20               5.787671   69.919863  \n",
      "21               5.040000   67.544000  \n",
      "22               5.371681   69.102655  \n",
      "23               5.100840   70.901681  \n",
      "24               5.425373   69.638806  \n"
     ]
    }
   ],
   "source": [
    "# Title: Group and Aggregate Data\n",
    "# Description: Group the dataset by species (target) and compute the average of each feature.\n",
    "\n",
    "\n",
    "# Import necessary libraries\n",
    "import pandas as pd\n",
    "\n",
    "# Load your dataset\n",
    "# Replace 'your_dataset.csv' with the actual path to your dataset\n",
    "df = pd.read_csv('/workspaces/AI_DATA_ANALYSIS_/src/student_habits_performance.csv')\n",
    "\n",
    "# Group and Aggregate Data\n",
    "# Group the dataset by 'species' and compute the mean of each numeric feature\n",
    "grouped_df = df.groupby('age').mean(numeric_only=True)\n",
    "\n",
    "# Display the result\n",
    "print(\"Average Feature Values by Species:\")\n",
    "print(grouped_df)\n"
   ]
  }
 ],
 "metadata": {
  "kernelspec": {
   "display_name": "Python 3",
   "language": "python",
   "name": "python3"
  },
  "language_info": {
   "codemirror_mode": {
    "name": "ipython",
    "version": 3
   },
   "file_extension": ".py",
   "mimetype": "text/x-python",
   "name": "python",
   "nbconvert_exporter": "python",
   "pygments_lexer": "ipython3",
   "version": "3.10.12"
  }
 },
 "nbformat": 4,
 "nbformat_minor": 2
}
