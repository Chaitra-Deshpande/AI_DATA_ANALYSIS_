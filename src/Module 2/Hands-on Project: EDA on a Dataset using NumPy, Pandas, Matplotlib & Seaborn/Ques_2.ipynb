{
 "cells": [
  {
   "cell_type": "code",
   "execution_count": 1,
   "metadata": {},
   "outputs": [
    {
     "name": "stdout",
     "output_type": "stream",
     "text": [
      "Mean of each feature:\n",
      "sepal length (cm): 5.84\n",
      "sepal width (cm): 3.06\n",
      "petal length (cm): 3.76\n",
      "petal width (cm): 1.20\n",
      "\n",
      "Median of each feature:\n",
      "sepal length (cm): 5.80\n",
      "sepal width (cm): 3.00\n",
      "petal length (cm): 4.35\n",
      "petal width (cm): 1.30\n",
      "\n",
      "Standard Deviation of each feature:\n",
      "sepal length (cm): 0.83\n",
      "sepal width (cm): 0.43\n",
      "petal length (cm): 1.76\n",
      "petal width (cm): 0.76\n"
     ]
    }
   ],
   "source": [
    "# Title: Basic NumPy Operations\n",
    "# Description: Perform basic operations such as calculating the mean of the dataset.\n",
    "\n",
    "\n",
    "import numpy as np\n",
    "from sklearn.datasets import load_iris\n",
    "\n",
    "# Load the Iris dataset\n",
    "iris = load_iris()\n",
    "data = iris.data  # Only the numeric feature data (without labels)\n",
    "\n",
    "# Convert to NumPy array (already is, but just to be explicit)\n",
    "data_np = np.array(data)\n",
    "\n",
    "# Get feature names\n",
    "feature_names = iris.feature_names\n",
    "\n",
    "# Calculate mean for each feature\n",
    "feature_means = np.mean(data_np, axis=0)\n",
    "print(\"Mean of each feature:\")\n",
    "for name, mean in zip(feature_names, feature_means):\n",
    "    print(f\"{name}: {mean:.2f}\")\n",
    "\n",
    "# Calculate median for each feature\n",
    "feature_medians = np.median(data_np, axis=0)\n",
    "print(\"\\nMedian of each feature:\")\n",
    "for name, median in zip(feature_names, feature_medians):\n",
    "    print(f\"{name}: {median:.2f}\")\n",
    "\n",
    "# Calculate standard deviation for each feature\n",
    "feature_stds = np.std(data_np, axis=0)\n",
    "print(\"\\nStandard Deviation of each feature:\")\n",
    "for name, std in zip(feature_names, feature_stds):\n",
    "    print(f\"{name}: {std:.2f}\")\n"
   ]
  }
 ],
 "metadata": {
  "kernelspec": {
   "display_name": "Python 3",
   "language": "python",
   "name": "python3"
  },
  "language_info": {
   "codemirror_mode": {
    "name": "ipython",
    "version": 3
   },
   "file_extension": ".py",
   "mimetype": "text/x-python",
   "name": "python",
   "nbconvert_exporter": "python",
   "pygments_lexer": "ipython3",
   "version": "3.10.12"
  }
 },
 "nbformat": 4,
 "nbformat_minor": 2
}
